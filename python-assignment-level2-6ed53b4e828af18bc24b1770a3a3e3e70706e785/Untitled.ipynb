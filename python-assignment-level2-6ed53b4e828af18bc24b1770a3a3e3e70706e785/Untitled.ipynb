{
 "cells": [
  {
   "cell_type": "code",
   "execution_count": 81,
   "id": "56140a8e",
   "metadata": {},
   "outputs": [],
   "source": [
    "from pyspark.sql import SparkSession\n",
    "from pyspark.sql.functions import *\n",
    "from pyspark.sql.window import *"
   ]
  },
  {
   "cell_type": "code",
   "execution_count": 2,
   "id": "b7fc646c",
   "metadata": {},
   "outputs": [
    {
     "name": "stderr",
     "output_type": "stream",
     "text": [
      "23/05/12 08:43:11 WARN Utils: Your hostname, ashish resolves to a loopback address: 127.0.1.1; using 172.18.222.152 instead (on interface eth0)\n",
      "23/05/12 08:43:11 WARN Utils: Set SPARK_LOCAL_IP if you need to bind to another address\n",
      "Setting default log level to \"WARN\".\n",
      "To adjust logging level use sc.setLogLevel(newLevel). For SparkR, use setLogLevel(newLevel).\n",
      "23/05/12 08:43:13 WARN NativeCodeLoader: Unable to load native-hadoop library for your platform... using builtin-java classes where applicable\n"
     ]
    }
   ],
   "source": [
    "spark = SparkSession.builder.master(\"local[1]\").appName('Spark Example').getOrCreate()"
   ]
  },
  {
   "cell_type": "code",
   "execution_count": 3,
   "id": "a8636d70",
   "metadata": {},
   "outputs": [
    {
     "data": {
      "text/html": [
       "\n",
       "            <div>\n",
       "                <p><b>SparkSession - in-memory</b></p>\n",
       "                \n",
       "        <div>\n",
       "            <p><b>SparkContext</b></p>\n",
       "\n",
       "            <p><a href=\"http://172.18.222.152:4040\">Spark UI</a></p>\n",
       "\n",
       "            <dl>\n",
       "              <dt>Version</dt>\n",
       "                <dd><code>v3.4.0</code></dd>\n",
       "              <dt>Master</dt>\n",
       "                <dd><code>local[1]</code></dd>\n",
       "              <dt>AppName</dt>\n",
       "                <dd><code>Spark Example</code></dd>\n",
       "            </dl>\n",
       "        </div>\n",
       "        \n",
       "            </div>\n",
       "        "
      ],
      "text/plain": [
       "<pyspark.sql.session.SparkSession at 0x7fbb25236590>"
      ]
     },
     "execution_count": 3,
     "metadata": {},
     "output_type": "execute_result"
    }
   ],
   "source": [
    "spark"
   ]
  },
  {
   "cell_type": "code",
   "execution_count": 96,
   "id": "b26940e7",
   "metadata": {},
   "outputs": [
    {
     "name": "stderr",
     "output_type": "stream",
     "text": [
      "\r",
      "[Stage 100:============================================>          (73 + 1) / 91]\r",
      "\r",
      "                                                                                \r"
     ]
    }
   ],
   "source": [
    "df = spark.read.json('../input_data/starter/transactions/*/transactions.json')"
   ]
  },
  {
   "cell_type": "code",
   "execution_count": 97,
   "id": "94e6398b",
   "metadata": {},
   "outputs": [
    {
     "name": "stdout",
     "output_type": "stream",
     "text": [
      "+--------------------+-----------+-------------------+\n",
      "|              basket|customer_id|   date_of_purchase|\n",
      "+--------------------+-----------+-------------------+\n",
      "|       [{1306, P37}]|         C4|2018-12-05 05:50:00|\n",
      "|[{252, P06}, {926...|         C7|2018-12-05 13:58:00|\n",
      "|          [{3, P57}]|         C8|2018-12-05 03:09:00|\n",
      "|[{1316, P22}, {71...|        C21|2018-12-05 05:28:00|\n",
      "|[{1800, P08}, {95...|        C22|2018-12-05 15:35:00|\n",
      "|[{1075, P61}, {12...|        C23|2018-12-05 03:11:00|\n",
      "|[{1089, P38}, {60...|        C30|2018-12-05 17:58:00|\n",
      "|[{995, P26}, {238...|        C32|2018-12-05 17:50:00|\n",
      "|       [{1928, P29}]|        C35|2018-12-05 23:39:00|\n",
      "|[{901, P39}, {118...|        C36|2018-12-05 18:59:00|\n",
      "|        [{243, P35}]|        C42|2018-12-05 09:55:00|\n",
      "|[{362, P41}, {144...|        C43|2018-12-05 03:32:00|\n",
      "|        [{201, P37}]|        C48|2018-12-05 05:55:00|\n",
      "|        [{662, P45}]|        C50|2018-12-05 22:16:00|\n",
      "|[{927, P61}, {145...|        C53|2018-12-05 10:08:00|\n",
      "|       [{1779, P22}]|        C56|2018-12-05 21:39:00|\n",
      "|[{1402, P34}, {42...|        C58|2018-12-05 20:11:00|\n",
      "|        [{346, P32}]|        C61|2018-12-05 05:10:00|\n",
      "|[{1408, P49}, {51...|        C62|2018-12-05 20:01:00|\n",
      "|[{1071, P56}, {11...|        C65|2018-12-05 12:25:00|\n",
      "+--------------------+-----------+-------------------+\n",
      "only showing top 20 rows\n",
      "\n"
     ]
    }
   ],
   "source": [
    "df.show()"
   ]
  },
  {
   "cell_type": "code",
   "execution_count": 44,
   "id": "8f14f9f5",
   "metadata": {},
   "outputs": [
    {
     "name": "stdout",
     "output_type": "stream",
     "text": [
      "+-----------+-----------+\n",
      "|customer_id|     nested|\n",
      "+-----------+-----------+\n",
      "|         C4|{1306, P37}|\n",
      "|         C7| {252, P06}|\n",
      "|         C7| {926, P06}|\n",
      "|         C8|   {3, P57}|\n",
      "|        C21|{1316, P22}|\n",
      "|        C21| {714, P28}|\n",
      "|        C21|{1147, P33}|\n",
      "|        C22|{1800, P08}|\n",
      "|        C22| {952, P12}|\n",
      "|        C22|{1781, P11}|\n",
      "|        C23|{1075, P61}|\n",
      "|        C23|{1252, P61}|\n",
      "|        C23| {266, P61}|\n",
      "|        C30|{1089, P38}|\n",
      "|        C30| {605, P35}|\n",
      "|        C30|{1095, P35}|\n",
      "|        C32| {995, P26}|\n",
      "|        C32| {238, P29}|\n",
      "|        C32| {568, P31}|\n",
      "|        C35|{1928, P29}|\n",
      "+-----------+-----------+\n",
      "only showing top 20 rows\n",
      "\n"
     ]
    }
   ],
   "source": [
    "df2 = df.select(df.customer_id, explode(df.basket).alias('nested'))\n",
    "df2.show()"
   ]
  },
  {
   "cell_type": "code",
   "execution_count": 45,
   "id": "e19ca135",
   "metadata": {},
   "outputs": [
    {
     "name": "stdout",
     "output_type": "stream",
     "text": [
      "root\n",
      " |-- customer_id: string (nullable = true)\n",
      " |-- nested: struct (nullable = true)\n",
      " |    |-- price: long (nullable = true)\n",
      " |    |-- product_id: string (nullable = true)\n",
      "\n"
     ]
    }
   ],
   "source": [
    "df2.printSchema()"
   ]
  },
  {
   "cell_type": "code",
   "execution_count": 55,
   "id": "e5d53955",
   "metadata": {},
   "outputs": [
    {
     "name": "stdout",
     "output_type": "stream",
     "text": [
      "root\n",
      " |-- customer_id: string (nullable = true)\n",
      " |-- product_id: string (nullable = true)\n",
      " |-- price: long (nullable = true)\n",
      "\n"
     ]
    }
   ],
   "source": [
    "trans = df2.withColumn('product_id', df2.nested.product_id).withColumn('price', df2.nested.price).drop('nested')\n",
    "trans.printSchema()"
   ]
  },
  {
   "cell_type": "code",
   "execution_count": 56,
   "id": "faac5f33",
   "metadata": {},
   "outputs": [
    {
     "name": "stdout",
     "output_type": "stream",
     "text": [
      "root\n",
      " |-- customer_id: string (nullable = true)\n",
      " |-- loyalty_score: string (nullable = true)\n",
      "\n"
     ]
    }
   ],
   "source": [
    "cust = spark.read.option(\"header\", True).csv(\"../input_data/starter/customers.csv\")\n",
    "cust.printSchema()"
   ]
  },
  {
   "cell_type": "code",
   "execution_count": 57,
   "id": "4ab3478c",
   "metadata": {},
   "outputs": [
    {
     "name": "stdout",
     "output_type": "stream",
     "text": [
      "root\n",
      " |-- product_id: string (nullable = true)\n",
      " |-- product_description: string (nullable = true)\n",
      " |-- product_category: string (nullable = true)\n",
      "\n"
     ]
    }
   ],
   "source": [
    "prod = spark.read.option(\"header\", True).csv(\"../input_data/starter/products.csv\")\n",
    "prod.printSchema()"
   ]
  },
  {
   "cell_type": "code",
   "execution_count": 87,
   "id": "18f8ea35",
   "metadata": {},
   "outputs": [],
   "source": [
    "final = trans.join(cust, trans.customer_id==cust.customer_id, 'inner')\\\n",
    ".join(prod, trans.product_id==prod.product_id, 'inner')\\\n",
    ".select(trans.customer_id, cust.loyalty_score, trans.product_id, prod.product_category)\\\n",
    ".withColumn('purchase_count', count(col('customer_id')).over(Window.partitionBy(col('customer_id'))))"
   ]
  },
  {
   "cell_type": "code",
   "execution_count": 92,
   "id": "d3261cf2",
   "metadata": {},
   "outputs": [],
   "source": [
    "final.write.option(\"header\",True) \\\n",
    " .csv(\"../output_data/final.csv\")"
   ]
  },
  {
   "cell_type": "code",
   "execution_count": null,
   "id": "6ada4235",
   "metadata": {},
   "outputs": [],
   "source": []
  },
  {
   "cell_type": "code",
   "execution_count": null,
   "id": "290d1812",
   "metadata": {},
   "outputs": [],
   "source": []
  }
 ],
 "metadata": {
  "kernelspec": {
   "display_name": "Python 3 (ipykernel)",
   "language": "python",
   "name": "python3"
  },
  "language_info": {
   "codemirror_mode": {
    "name": "ipython",
    "version": 3
   },
   "file_extension": ".py",
   "mimetype": "text/x-python",
   "name": "python",
   "nbconvert_exporter": "python",
   "pygments_lexer": "ipython3",
   "version": "3.10.6"
  }
 },
 "nbformat": 4,
 "nbformat_minor": 5
}
